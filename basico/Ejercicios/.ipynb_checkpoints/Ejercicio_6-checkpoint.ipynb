{
 "cells": [
  {
   "cell_type": "code",
   "execution_count": null,
   "id": "83ed0864",
   "metadata": {},
   "outputs": [],
   "source": [
    "\n",
    "\n",
    "\n",
    "# EJERCICIO 5\n",
    "\"\"\"\n",
    "    Pendiente\n",
    "\"\"\""
   ]
  },
  {
   "cell_type": "code",
   "execution_count": 7,
   "id": "fc330e55",
   "metadata": {},
   "outputs": [],
   "source": [
    "# EJERCICIO 1\n",
    "\n",
    "def imprimelistado(lista):\n",
    "    return print(lista)\n",
    "\n",
    "def sacamin(lista):\n",
    "    tam=len(lista)\n",
    "    mini=lista[0]\n",
    "    while tam>0:\n",
    "        if (lista[tam-1]<mini):\n",
    "            mini=lista[tam-1]\n",
    "        tam=tam-1\n",
    "    return mini"
   ]
  },
  {
   "cell_type": "code",
   "execution_count": 8,
   "id": "c2f7669f",
   "metadata": {},
   "outputs": [
    {
     "name": "stdout",
     "output_type": "stream",
     "text": [
      "[30, 20, 10, 50, 40]\n"
     ]
    },
    {
     "data": {
      "text/plain": [
       "10"
      ]
     },
     "execution_count": 8,
     "metadata": {},
     "output_type": "execute_result"
    }
   ],
   "source": [
    "# 1) Escribe el listado e ímprimelo\n",
    "listado=[30, 20, 10, 50, 40]\n",
    "\n",
    "imprimelistado(listado)\n",
    "\n",
    "# 2) Prueba con min(listado)\n",
    "min(listado)\n",
    "\n",
    "# 3) Realiza lo mismo pero con bucles y condicionales\n",
    "sacamin(listado)"
   ]
  },
  {
   "cell_type": "code",
   "execution_count": 10,
   "id": "f9ba6dcc",
   "metadata": {},
   "outputs": [],
   "source": [
    "# EJERCICIO 2\n",
    "\n",
    "def sacamax(lista):\n",
    "    maxi=lista[0]\n",
    "    for elemento in lista:\n",
    "        if elemento>maxi:\n",
    "            maxi=elemento\n",
    "    return maxi"
   ]
  },
  {
   "cell_type": "code",
   "execution_count": 11,
   "id": "dfd0b7d7",
   "metadata": {},
   "outputs": [
    {
     "name": "stdout",
     "output_type": "stream",
     "text": [
      "[30, 20, 10, 50, 40]\n"
     ]
    },
    {
     "data": {
      "text/plain": [
       "50"
      ]
     },
     "execution_count": 11,
     "metadata": {},
     "output_type": "execute_result"
    }
   ],
   "source": [
    "# 1) Escribe el listado e ímprimelo\n",
    "listado=[30, 20, 10, 50, 40]\n",
    "\n",
    "imprimelistado(listado)\n",
    "\n",
    "# 2) Prueba con max(listado)\n",
    "max(listado)\n",
    "\n",
    "# 3) Realiza lo mismo pero con bucles y condicionales\n",
    "sacamax(listado)\n"
   ]
  },
  {
   "cell_type": "code",
   "execution_count": 17,
   "id": "67adf59b",
   "metadata": {},
   "outputs": [],
   "source": [
    "# EJERCICIO 3\n",
    "\n",
    "# Ordena de menor a mayor un listado de números: 30, 20, 10, 50, 40 (de nombre \"listado\")\n",
    "\n",
    "# Pista: si quieres almacena esos números en una lista de nombre: \"listado_ascendente\"\n",
    "\n",
    "def ordena(lista):\n",
    "    listado_ascendente=[]\n",
    "    while len(lista)>0:\n",
    "        listado_ascendente.append(min(lista))\n",
    "        lista.remove(min(lista))\n",
    "    \n",
    "    return listado_ascendente"
   ]
  },
  {
   "cell_type": "code",
   "execution_count": 18,
   "id": "3a55012f",
   "metadata": {},
   "outputs": [
    {
     "name": "stdout",
     "output_type": "stream",
     "text": [
      "[30, 20, 10, 50, 40]\n",
      "[10, 20, 30, 40, 50]\n"
     ]
    },
    {
     "data": {
      "text/plain": [
       "[10, 20, 30, 40, 50]"
      ]
     },
     "execution_count": 18,
     "metadata": {},
     "output_type": "execute_result"
    }
   ],
   "source": [
    "# 1) Escribe el listado e ímprimelo\n",
    "listado=[30, 20, 10, 50, 40]\n",
    "\n",
    "imprimelistado(listado)\n",
    "\n",
    "# 2) Prueba a usar sort()\n",
    "listado.sort()\n",
    "print(listado)\n",
    "# 3) Realiza lo mismo pero con bucles y condicionales\n",
    "\n",
    "listado=[30, 20, 10, 50, 40]\n",
    "ordena(listado)"
   ]
  },
  {
   "cell_type": "code",
   "execution_count": 21,
   "id": "23cf6672",
   "metadata": {},
   "outputs": [],
   "source": [
    "\n",
    "# EJERCICIO 4\n",
    "\n",
    "# Ordena de mayor a menor un listado de números: 30, 20, 10, 50, 40 (de nombre \"listado\")\n",
    "\n",
    "def ordenaalreves(lista):\n",
    "    listado_ascendente=[]\n",
    "    while len(lista)>0:\n",
    "        listado_ascendente.append(max(lista))\n",
    "        lista.remove(max(lista))\n",
    "    \n",
    "    return listado_ascendente"
   ]
  },
  {
   "cell_type": "code",
   "execution_count": 22,
   "id": "5962c6ba",
   "metadata": {},
   "outputs": [
    {
     "name": "stdout",
     "output_type": "stream",
     "text": [
      "[30, 20, 10, 50, 40]\n",
      "[50, 40, 30, 20, 10]\n"
     ]
    },
    {
     "data": {
      "text/plain": [
       "[50, 40, 30, 20, 10]"
      ]
     },
     "execution_count": 22,
     "metadata": {},
     "output_type": "execute_result"
    }
   ],
   "source": [
    "\n",
    "\n",
    "# 1) Escribe el listado e ímprimelo\n",
    "\n",
    "listado=[30, 20, 10, 50, 40]\n",
    "\n",
    "imprimelistado(listado)\n",
    "\n",
    "# 2) Prueba a usar sort()\n",
    "listado.sort(reverse=True)\n",
    "print(listado)\n",
    "\n",
    "# 3) Realiza lo mismo pero con bucles y condicionales\n",
    "\n",
    "listado=[30, 20, 10, 50, 40]\n",
    "ordenaalreves(listado)"
   ]
  },
  {
   "cell_type": "code",
   "execution_count": 46,
   "id": "82610758",
   "metadata": {},
   "outputs": [],
   "source": [
    "# EJERCICIO 5\n",
    "\"\"\"\n",
    "    Escribe el código necesario en Python para:\n",
    "    * almacenar con una lista de nombre \"módulos\" las siguientes materias de un programa de Ciencia de Datos:\n",
    "    * Big Data, Python, Algoritmos, Machine Learning, Deep Learning, NLP.\n",
    "    \n",
    "\"\"\"\n",
    "\n",
    "def imprimeunoauno(listado):\n",
    "    for elemento in listado:\n",
    "        print(elemento)\n",
    "\n",
    "\"\"\"\n",
    "    2) \n",
    "\"\"\"\n",
    "def materiasesenciales(listado):\n",
    "    esenciales=[]\n",
    "    for elemento in listado:\n",
    "        if elemento == \"Python\" or elemento == \"Algoritmos\":\n",
    "            esenciales.append(elemento)\n",
    "    return esenciales\n",
    "\n",
    "\"\"\"\n",
    "    3) \n",
    "\"\"\"\n",
    "def imprimedf(data):\n",
    "    print(data)\n"
   ]
  },
  {
   "cell_type": "code",
   "execution_count": 47,
   "id": "897a18e7",
   "metadata": {},
   "outputs": [
    {
     "name": "stdout",
     "output_type": "stream",
     "text": [
      "Big Data\n",
      "Python\n",
      "Algoritmos\n",
      "Machine Learning\n",
      "Deep Learning\n",
      "NLP\n",
      "Python\n",
      "Algoritmos\n",
      "           Materias  Horas\n",
      "0          Big Data     25\n",
      "1            Python     15\n",
      "2        Algoritmos      5\n",
      "3  Machine Learning     15\n",
      "4     Deep Learning      5\n",
      "5               NLP     10\n",
      "0    25\n",
      "1    15\n",
      "2     5\n",
      "3    15\n",
      "4     5\n",
      "5    10\n",
      "Name: Horas, dtype: int64\n",
      "   Materias  Horas\n",
      "0  Big Data     25\n",
      "        Materias  Horas\n",
      "2     Algoritmos      5\n",
      "4  Deep Learning      5\n",
      "Empty DataFrame\n",
      "Columns: [Materias, Horas]\n",
      "Index: []\n",
      "           Materias  Horas   Docente\n",
      "0          Big Data     25   Enrique\n",
      "1            Python     15    Susana\n",
      "2        Algoritmos      5      Juan\n",
      "3  Machine Learning     15       Ana\n",
      "4     Deep Learning      5     Laura\n",
      "5               NLP     10  Patricia\n"
     ]
    },
    {
     "data": {
      "image/png": "[encoded data removed]",
      "text/plain": [
       "<Figure size 432x288 with 1 Axes>"
      ]
     },
     "metadata": {
      "needs_background": "light"
     },
     "output_type": "display_data"
    }
   ],
   "source": [
    "# 1) Para ese listado imprime todas ellas, 1 a 1\n",
    "modulos=[\"Big Data\", \"Python\", \"Algoritmos\", \"Machine Learning\", \"Deep Learning\", \"NLP\"]\n",
    "\n",
    "imprimeunoauno(modulos)\n",
    "\n",
    "\"\"\"\n",
    "    2) dentro de ese grupo de materias, existen unas materias que son básicas en todos los programas.\n",
    "    y que forman la base de conocimientos iniciales para afrontar con éxito el resto de un programa.\n",
    "    Las mismas son: Python y Algoritmos (aunque en la práctica hay más cosas)\n",
    "    Se pide almacenar las mismas en un listado secundario, de nombre: \"esenciales\" (por ejemplo)\n",
    "    Imprime ese listado al terminar de almacenarlos.\n",
    "\"\"\"\n",
    "\n",
    "imprimeunoauno(materiasesenciales(modulos))\n",
    "\"\"\"\n",
    "3) Crea un DataFrame, de nombre df con esa información en base\n",
    "    a la siguiente relación de módulos y horas de clase módulos:\n",
    "    Big Data, Python, Algoritmos, Machine Learning, Deep Learning, NLP\n",
    "    horas: 25, 15, 5, 15, 5, 10\n",
    "\"\"\"\n",
    "import pandas as pd\n",
    "horas=[25, 15, 5, 15, 5, 10]\n",
    "\n",
    "df=pd.DataFrame({\"Materias\":modulos,\"Horas\":horas})\n",
    "\n",
    "imprimedf(df)\n",
    "# 4) De ese DataFrame, selecciona solamente la columna \"horas\" e imprímela\n",
    "\n",
    "dfh=df.Horas\n",
    "\n",
    "imprimedf(dfh)\n",
    "\n",
    "# 5) Muestra el gráfico (plot) para la columna \"horas\"\n",
    "df.Horas.plot(kind=\"bar\")\n",
    "dfh.plot(kind=\"line\")\n",
    "\n",
    "# 6) De ese DataFrame, selecciona solamente aquellas materias que tienen 20 o más horas de dedicación\n",
    "\n",
    "dfmas20=df[df.Horas>=20]\n",
    "\n",
    "imprimedf(dfmas20)\n",
    "\n",
    "# 7) De ese DataFrame, selecciona solamente aquellas materias que tienen menos de 10 horas de dedicación\n",
    "\n",
    "dfmenos10=df[df.Horas<10]\n",
    "\n",
    "imprimedf(dfmenos10)\n",
    "\n",
    "# 8) De ese DataFrame, selecciona solamente (si fuera posible)\n",
    "    # aquellas materias que tienen mas de 26 horas de dedicación\n",
    "dfmas26=df[df.Horas>26]\n",
    "\n",
    "imprimedf(dfmas26)\n",
    "# 9) Apendiza, (si puedes), una nueva columna llamada \"docente\" con el instructor encargado de la materia.\n",
    "\n",
    "    # Y cuyos nombres serán: Enrique, Susana, Juan, Ana, Laura, Patricia\n",
    "    \n",
    "df[\"Docente\"]=[\"Enrique\", \"Susana\", \"Juan\", \"Ana\", \"Laura\", \"Patricia\"]\n",
    "\n",
    "imprimedf(df)"
   ]
  },
  {
   "cell_type": "code",
   "execution_count": null,
   "id": "c143ebf9",
   "metadata": {},
   "outputs": [],
   "source": []
  }
 ],
 "metadata": {
  "kernelspec": {
   "display_name": "Python 3 (ipykernel)",
   "language": "python",
   "name": "python3"
  },
  "language_info": {
   "codemirror_mode": {
    "name": "ipython",
    "version": 3
   },
   "file_extension": ".py",
   "mimetype": "text/x-python",
   "name": "python",
   "nbconvert_exporter": "python",
   "pygments_lexer": "ipython3",
   "version": "3.8.6"
  }
 },
 "nbformat": 4,
 "nbformat_minor": 5
}
